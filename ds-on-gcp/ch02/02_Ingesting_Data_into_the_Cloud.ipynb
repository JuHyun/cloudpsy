{
 "cells": [
  {
   "cell_type": "markdown",
   "metadata": {},
   "source": [
    "# Chapter 2. Ingesting Data into the Cloud"
   ]
  },
  {
   "cell_type": "markdown",
   "metadata": {},
   "source": [
    "* 싸이그래머 / CloudΨ - DS on GCP [1]\n",
    "* 김무성"
   ]
  },
  {
   "cell_type": "markdown",
   "metadata": {},
   "source": [
    "# 차례 \n",
    "* 준비단계    \n",
    "* Airline On-Time Perfomance Data\n",
    "    * Knowability\n",
    "    * Training–Serving Skew\n",
    "    * Download Procedure\n",
    "    * Dataset Attributes\n",
    "* Why Not Store the Data in Situ?\n",
    "    * Scaling Up\n",
    "    * Scaling Out\n",
    "    * Data in Situ with Colossus and Jupiter\n",
    "* Ingesting Data\n",
    "    * Reverse Engineering a Web Form\n",
    "    * Dataset Download\n",
    "    * Exploration and Cleanup\n",
    "    * Uploading Data to Google Cloud Storage\n",
    "* Scheduling Monthly Downloads\n",
    "    * Ingesting in Python\n",
    "    * Flask Web App\n",
    "    * Running on App Engine\n",
    "    * Securing the URL\n",
    "    * Scheduling a Cron Task\n",
    "* Summary\n",
    "* Code Break"
   ]
  },
  {
   "cell_type": "markdown",
   "metadata": {},
   "source": [
    "----------------------------"
   ]
  },
  {
   "cell_type": "markdown",
   "metadata": {},
   "source": [
    "#### 참고 \n",
    "* Getting started with Google Cloud Training Material - 2018 - https://www.slideshare.net/jkbaseer/getting-started-with-google-cloud-training-material-2018\n",
    "\n",
    "<img src=\"https://image.slidesharecdn.com/cloudonboardtrainingmanual2018sg17april2018-180417132701/95/getting-started-with-google-cloud-training-material-2018-17-1024.jpg?cb=1523971737\" width=800 />\n",
    "<img src=\"https://image.slidesharecdn.com/cloudonboardtrainingmanual2018sg17april2018-180417132701/95/getting-started-with-google-cloud-training-material-2018-18-1024.jpg?cb=1523971737\" width=800 />\n",
    "<img src=\"https://image.slidesharecdn.com/cloudonboardtrainingmanual2018sg17april2018-180417132701/95/getting-started-with-google-cloud-training-material-2018-20-1024.jpg?cb=1523971737\" width=800 />"
   ]
  },
  {
   "cell_type": "markdown",
   "metadata": {},
   "source": [
    "-----------------------------------"
   ]
  },
  {
   "cell_type": "markdown",
   "metadata": {},
   "source": [
    "## Chapter 1. - probabilistic decision criterion"
   ]
  },
  {
   "cell_type": "markdown",
   "metadata": {},
   "source": [
    "<img src=\"../ch01/figures/cap02.png\" width=600 />\n",
    "<img src=\"../ch01/figures/cap03.png\" width=600 />\n",
    "<img src=\"../ch01/figures/cap04.png\" width=600 />\n",
    "<img src=\"../ch01/figures/cap05.png\" width=600 />\n",
    "<img src=\"../ch01/figures/cap06.png\" width=600 />"
   ]
  },
  {
   "cell_type": "markdown",
   "metadata": {},
   "source": [
    "---------------------"
   ]
  },
  {
   "cell_type": "markdown",
   "metadata": {},
   "source": [
    "# 준비단계"
   ]
  },
  {
   "cell_type": "markdown",
   "metadata": {},
   "source": [
    "* US Bureau of Transportation Statistics (BTS) \n",
    "    - https://www.transtats.bts.gov/\n",
    "    - 미국 교통 통계국\n",
    "    - 1987년 이후부터 여러 항공편의 과거이력 데이터가 있다. \n",
    "    - <font color=\"red\">Airline On-Time Performance Data</font>\n",
    "        - 정시 도착 퍼포먼스 데이터이므로, \n",
    "        - 비행 지연에 대한 정보를 포함한다.\n",
    "        - 이 책에서는 이걸 쓸 것이다.\n",
    "\n"
   ]
  },
  {
   "cell_type": "code",
   "execution_count": 11,
   "metadata": {},
   "outputs": [
    {
     "name": "stdout",
     "output_type": "stream",
     "text": [
      "02_Ingesting_Data_into_the_Cloud.ipynb \u001b[34mfigures\u001b[m\u001b[m\r\n"
     ]
    }
   ],
   "source": [
    "!ls"
   ]
  },
  {
   "cell_type": "code",
   "execution_count": 12,
   "metadata": {},
   "outputs": [
    {
     "name": "stdout",
     "output_type": "stream",
     "text": [
      "README.md                \u001b[31mingest_from_crsbucket.sh\u001b[m\u001b[m \u001b[31mupload.sh\u001b[m\u001b[m\r\n",
      "\u001b[31mdownload.sh\u001b[m\u001b[m              \u001b[34mmonthlyupdate\u001b[m\u001b[m            \u001b[31mzip_to_csv.sh\u001b[m\u001b[m\r\n",
      "\u001b[31mingest.sh\u001b[m\u001b[m                \u001b[31mquotes_comma.sh\u001b[m\u001b[m\r\n"
     ]
    }
   ],
   "source": [
    "!ls ../data-science-on-gcp/02_ingest/"
   ]
  },
  {
   "cell_type": "code",
   "execution_count": 13,
   "metadata": {},
   "outputs": [],
   "source": [
    "!cp ../data-science-on-gcp/02_ingest/download.sh ."
   ]
  },
  {
   "cell_type": "code",
   "execution_count": 14,
   "metadata": {},
   "outputs": [
    {
     "name": "stdout",
     "output_type": "stream",
     "text": [
      "02_Ingesting_Data_into_the_Cloud.ipynb \u001b[34mfigures\u001b[m\u001b[m\r\n",
      "\u001b[31mdownload.sh\u001b[m\u001b[m\r\n"
     ]
    }
   ],
   "source": [
    "!ls"
   ]
  },
  {
   "cell_type": "code",
   "execution_count": null,
   "metadata": {},
   "outputs": [],
   "source": [
    "# 복사한 download.sh 파일의 다음 부분을"
   ]
  },
  {
   "cell_type": "code",
   "execution_count": 19,
   "metadata": {},
   "outputs": [
    {
     "name": "stdout",
     "output_type": "stream",
     "text": [
      "#!/bin/bash\r\n",
      "\r\n",
      "export YEAR=${YEAR:=2015}\r\n",
      "echo \"Downloading YEAR=$YEAR...\"\r\n",
      "\r\n"
     ]
    }
   ],
   "source": [
    "!head -n 5 download.sh"
   ]
  },
  {
   "cell_type": "code",
   "execution_count": null,
   "metadata": {},
   "outputs": [],
   "source": [
    "# {YEAR:=2015}를 {YEAR:=2018}로 바꿔서 "
   ]
  },
  {
   "cell_type": "code",
   "execution_count": 23,
   "metadata": {},
   "outputs": [
    {
     "name": "stdout",
     "output_type": "stream",
     "text": [
      "#!/bin/bash\r\n",
      "\r\n",
      "export YEAR=${YEAR:=2018}\r\n",
      "echo \"Downloading YEAR=$YEAR...\"\r\n",
      "\r\n"
     ]
    }
   ],
   "source": [
    "!head -n 5 download.sh"
   ]
  },
  {
   "cell_type": "code",
   "execution_count": null,
   "metadata": {},
   "outputs": [],
   "source": [
    "# 스크립트를 실행해보자."
   ]
  },
  {
   "cell_type": "code",
   "execution_count": 39,
   "metadata": {},
   "outputs": [
    {
     "name": "stdout",
     "output_type": "stream",
     "text": [
      "Downloading YEAR=2018...\n",
      "201801\n",
      "  % Total    % Received % Xferd  Average Speed   Time    Time     Time  Current\n",
      "                                 Dload  Upload   Total   Spent    Left  Speed\n",
      "100  5405  100   191  100  5214     10    299  0:00:19  0:00:17  0:00:02    44--:--  2472\n",
      "Received <head><title>Object moved</title></head>\n",
      "<body><h1>Object Moved</h1>This object may be found <a HREF=\"https://transtats.bts.gov/ftproot/TranStatsData/137304439_T_ONTIME.zip\">here</a>.</body>\n",
      "https://transtats.bts.gov/ftproot/TranStatsData/137304439_T_ONTIME.zip\n",
      "  % Total    % Received % Xferd  Average Speed   Time    Time     Time  Current\n",
      "                                 Dload  Upload   Total   Spent    Left  Speed\n",
      "100 18.3M  100 18.3M    0     0   140k      0  0:02:14  0:02:14 --:--:--  112k  0:00:14  0:01:57  223k 0:02:20  0:01:03  0:01:17  101k01:31  0:00:47  100k\n",
      "201802\n",
      "  % Total    % Received % Xferd  Average Speed   Time    Time     Time  Current\n",
      "                                 Dload  Upload   Total   Spent    Left  Speed\n",
      "100  5405  100   191  100  5214     11    320  0:00:17  0:00:16  0:00:01    47\n",
      "Received <head><title>Object moved</title></head>\n",
      "<body><h1>Object Moved</h1>This object may be found <a HREF=\"https://transtats.bts.gov/ftproot/TranStatsData/137304555_T_ONTIME.zip\">here</a>.</body>\n",
      "https://transtats.bts.gov/ftproot/TranStatsData/137304555_T_ONTIME.zip\n",
      "  % Total    % Received % Xferd  Average Speed   Time    Time     Time  Current\n",
      "                                 Dload  Upload   Total   Spent    Left  Speed\n",
      " 48 16.8M   48 8342k    0     0   143k      0  0:02:00  0:00:58  0:01:02  212k^C\n"
     ]
    }
   ],
   "source": [
    "!sh download.sh"
   ]
  },
  {
   "cell_type": "code",
   "execution_count": 31,
   "metadata": {},
   "outputs": [
    {
     "name": "stdout",
     "output_type": "stream",
     "text": [
      "02_Ingesting_Data_into_the_Cloud.ipynb \u001b[31mdownload.sh\u001b[m\u001b[m\r\n",
      "201801.zip                             \u001b[34mfigures\u001b[m\u001b[m\r\n"
     ]
    }
   ],
   "source": [
    "!ls"
   ]
  },
  {
   "cell_type": "code",
   "execution_count": 32,
   "metadata": {},
   "outputs": [
    {
     "name": "stdout",
     "output_type": "stream",
     "text": [
      "README.md                \u001b[31mingest_from_crsbucket.sh\u001b[m\u001b[m \u001b[31mupload.sh\u001b[m\u001b[m\r\n",
      "\u001b[31mdownload.sh\u001b[m\u001b[m              \u001b[34mmonthlyupdate\u001b[m\u001b[m            \u001b[31mzip_to_csv.sh\u001b[m\u001b[m\r\n",
      "\u001b[31mingest.sh\u001b[m\u001b[m                \u001b[31mquotes_comma.sh\u001b[m\u001b[m\r\n"
     ]
    }
   ],
   "source": [
    "!ls ../data-science-on-gcp/02_ingest/"
   ]
  },
  {
   "cell_type": "code",
   "execution_count": 33,
   "metadata": {},
   "outputs": [],
   "source": [
    "!cp ../data-science-on-gcp/02_ingest/zip_to_csv.sh ."
   ]
  },
  {
   "cell_type": "code",
   "execution_count": 34,
   "metadata": {},
   "outputs": [
    {
     "name": "stdout",
     "output_type": "stream",
     "text": [
      "02_Ingesting_Data_into_the_Cloud.ipynb \u001b[34mfigures\u001b[m\u001b[m\r\n",
      "201801.zip                             \u001b[31mzip_to_csv.sh\u001b[m\u001b[m\r\n",
      "\u001b[31mdownload.sh\u001b[m\u001b[m\r\n"
     ]
    }
   ],
   "source": [
    "!ls"
   ]
  },
  {
   "cell_type": "code",
   "execution_count": null,
   "metadata": {},
   "outputs": [],
   "source": [
    "# 복사한 zip_to_csv.sh 파일의 다음 부분을"
   ]
  },
  {
   "cell_type": "code",
   "execution_count": 35,
   "metadata": {},
   "outputs": [
    {
     "name": "stdout",
     "output_type": "stream",
     "text": [
      "#!/bin/bash\r\n",
      "echo ${YEAR:=2015}  # default if YEAR not set\r\n",
      "for month in `seq -w 1 12`; do \r\n",
      "   unzip $YEAR$month.zip\r\n",
      "   mv *ONTIME.csv $YEAR$month.csv\r\n"
     ]
    }
   ],
   "source": [
    "!head -n 5 zip_to_csv.sh"
   ]
  },
  {
   "cell_type": "code",
   "execution_count": null,
   "metadata": {},
   "outputs": [],
   "source": [
    "# {YEAR:=2015}를 {YEAR:=2018}로 바꿔서 "
   ]
  },
  {
   "cell_type": "code",
   "execution_count": 36,
   "metadata": {},
   "outputs": [
    {
     "name": "stdout",
     "output_type": "stream",
     "text": [
      "#!/bin/bash\r\n",
      "echo ${YEAR:=2018}  # default if YEAR not set\r\n",
      "for month in `seq -w 1 12`; do \r\n",
      "   unzip $YEAR$month.zip\r\n",
      "   mv *ONTIME.csv $YEAR$month.csv\r\n"
     ]
    }
   ],
   "source": [
    "!head -n 5 zip_to_csv.sh"
   ]
  },
  {
   "cell_type": "code",
   "execution_count": null,
   "metadata": {},
   "outputs": [],
   "source": [
    "# 스크립트를 실행해보자."
   ]
  },
  {
   "cell_type": "code",
   "execution_count": 40,
   "metadata": {},
   "outputs": [
    {
     "name": "stdout",
     "output_type": "stream",
     "text": [
      "2018\n",
      "Archive:  201801.zip\n",
      "  inflating: 137304439_T_ONTIME.csv  \n",
      "Archive:  201802.zip\n",
      "  End-of-central-directory signature not found.  Either this file is not\n",
      "  a zipfile, or it constitutes one disk of a multi-part archive.  In the\n",
      "  latter case the central directory and zipfile comment will be found on\n",
      "  the last disk(s) of this archive.\n",
      "unzip:  cannot find zipfile directory in one of 201802.zip or\n",
      "        201802.zip.zip, and cannot find 201802.zip.ZIP, period.\n",
      "mv: rename *ONTIME.csv to 201802.csv: No such file or directory\n",
      "unzip:  cannot find or open 201803.zip, 201803.zip.zip or 201803.zip.ZIP.\n",
      "mv: rename *ONTIME.csv to 201803.csv: No such file or directory\n",
      "rm: 201803.zip: No such file or directory\n",
      "unzip:  cannot find or open 201804.zip, 201804.zip.zip or 201804.zip.ZIP.\n",
      "mv: rename *ONTIME.csv to 201804.csv: No such file or directory\n",
      "rm: 201804.zip: No such file or directory\n",
      "unzip:  cannot find or open 201805.zip, 201805.zip.zip or 201805.zip.ZIP.\n",
      "mv: rename *ONTIME.csv to 201805.csv: No such file or directory\n",
      "rm: 201805.zip: No such file or directory\n",
      "unzip:  cannot find or open 201806.zip, 201806.zip.zip or 201806.zip.ZIP.\n",
      "mv: rename *ONTIME.csv to 201806.csv: No such file or directory\n",
      "rm: 201806.zip: No such file or directory\n",
      "unzip:  cannot find or open 201807.zip, 201807.zip.zip or 201807.zip.ZIP.\n",
      "mv: rename *ONTIME.csv to 201807.csv: No such file or directory\n",
      "rm: 201807.zip: No such file or directory\n",
      "unzip:  cannot find or open 201808.zip, 201808.zip.zip or 201808.zip.ZIP.\n",
      "mv: rename *ONTIME.csv to 201808.csv: No such file or directory\n",
      "rm: 201808.zip: No such file or directory\n",
      "unzip:  cannot find or open 201809.zip, 201809.zip.zip or 201809.zip.ZIP.\n",
      "mv: rename *ONTIME.csv to 201809.csv: No such file or directory\n",
      "rm: 201809.zip: No such file or directory\n",
      "unzip:  cannot find or open 201810.zip, 201810.zip.zip or 201810.zip.ZIP.\n",
      "mv: rename *ONTIME.csv to 201810.csv: No such file or directory\n",
      "rm: 201810.zip: No such file or directory\n",
      "unzip:  cannot find or open 201811.zip, 201811.zip.zip or 201811.zip.ZIP.\n",
      "mv: rename *ONTIME.csv to 201811.csv: No such file or directory\n",
      "rm: 201811.zip: No such file or directory\n",
      "unzip:  cannot find or open 201812.zip, 201812.zip.zip or 201812.zip.ZIP.\n",
      "mv: rename *ONTIME.csv to 201812.csv: No such file or directory\n",
      "rm: 201812.zip: No such file or directory\n"
     ]
    }
   ],
   "source": [
    "!sh zip_to_csv.sh"
   ]
  },
  {
   "cell_type": "code",
   "execution_count": 41,
   "metadata": {},
   "outputs": [
    {
     "name": "stdout",
     "output_type": "stream",
     "text": [
      "02_Ingesting_Data_into_the_Cloud.ipynb \u001b[34mfigures\u001b[m\u001b[m\r\n",
      "201801.csv                             \u001b[31mzip_to_csv.sh\u001b[m\u001b[m\r\n",
      "\u001b[31mdownload.sh\u001b[m\u001b[m\r\n"
     ]
    }
   ],
   "source": [
    "!ls"
   ]
  },
  {
   "cell_type": "code",
   "execution_count": 43,
   "metadata": {},
   "outputs": [
    {
     "name": "stdout",
     "output_type": "stream",
     "text": [
      "\"FL_DATE\",\"UNIQUE_CARRIER\",\"AIRLINE_ID\",\"CARRIER\",\"FL_NUM\",\"ORIGIN_AIRPORT_ID\",\"ORIGIN_AIRPORT_SEQ_ID\",\"ORIGIN_CITY_MARKET_ID\",\"ORIGIN\",\"DEST_AIRPORT_ID\",\"DEST_AIRPORT_SEQ_ID\",\"DEST_CITY_MARKET_ID\",\"DEST\",\"CRS_DEP_TIME\",\"DEP_TIME\",\"DEP_DELAY\",\"TAXI_OUT\",\"WHEELS_OFF\",\"WHEELS_ON\",\"TAXI_IN\",\"CRS_ARR_TIME\",\"ARR_TIME\",\"ARR_DELAY\",\"CANCELLED\",\"CANCELLATION_CODE\",\"DIVERTED\",\"DISTANCE\",\r\n",
      "2018-01-01,\"UA\",19977,\"UA\",\"2429\",11618,1161802,31703,\"EWR\",11292,1129202,30325,\"DEN\",\"1517\",\"1512\",-5.00,15.00,\"1527\",\"1712\",10.00,\"1745\",\"1722\",-23.00,0.00,\"\",0.00,1605.00,\r\n",
      "2018-01-01,\"UA\",19977,\"UA\",\"2427\",12889,1288903,32211,\"LAS\",14771,1477104,32457,\"SFO\",\"1115\",\"1107\",-8.00,11.00,\"1118\",\"1223\",7.00,\"1254\",\"1230\",-24.00,0.00,\"\",0.00,414.00,\r\n",
      "2018-01-01,\"UA\",19977,\"UA\",\"2426\",14908,1490803,32575,\"SNA\",11292,1129202,30325,\"DEN\",\"1335\",\"1330\",-5.00,15.00,\"1345\",\"1631\",5.00,\"1649\",\"1636\",-13.00,0.00,\"\",0.00,846.00,\r\n",
      "2018-01-01,\"UA\",19977,\"UA\",\"2425\",14635,1463502,31714,\"RSW\",13930,1393006,30977,\"ORD\",\"1546\",\"1552\",6.00,19.00,\"1611\",\"1748\",6.00,\"1756\",\"1754\",-2.00,0.00,\"\",0.00,1120.00,\r\n",
      "2018-01-01,\"UA\",19977,\"UA\",\"2424\",13930,1393006,30977,\"ORD\",10257,1025702,30257,\"ALB\",\"0630\",\"0650\",20.00,13.00,\"0703\",\"0926\",10.00,\"0922\",\"0936\",14.00,0.00,\"\",0.00,723.00,\r\n",
      "2018-01-01,\"UA\",19977,\"UA\",\"2422\",13930,1393006,30977,\"ORD\",13871,1387102,33316,\"OMA\",\"2241\",\"2244\",3.00,15.00,\"2259\",\"0001\",2.00,\"0014\",\"0003\",-11.00,0.00,\"\",0.00,416.00,\r\n",
      "2018-01-01,\"UA\",19977,\"UA\",\"2421\",12266,1226603,31453,\"IAH\",12889,1288903,32211,\"LAS\",\"0750\",\"0747\",-3.00,14.00,\"0801\",\"0854\",6.00,\"0916\",\"0900\",-16.00,0.00,\"\",0.00,1222.00,\r\n",
      "2018-01-01,\"UA\",19977,\"UA\",\"2420\",11292,1129202,30325,\"DEN\",11003,1100303,31003,\"CID\",\"1324\",\"1318\",-6.00,11.00,\"1329\",\"1554\",6.00,\"1619\",\"1600\",-19.00,0.00,\"\",0.00,692.00,\r\n",
      "2018-01-01,\"UA\",19977,\"UA\",\"2419\",14893,1489302,33192,\"SMF\",11618,1161802,31703,\"EWR\",\"2224\",\"2237\",13.00,10.00,\"2247\",\"0627\",9.00,\"0638\",\"0636\",-2.00,0.00,\"\",0.00,2500.00,\r\n"
     ]
    }
   ],
   "source": [
    "!head 201801.csv"
   ]
  },
  {
   "cell_type": "code",
   "execution_count": 46,
   "metadata": {},
   "outputs": [
    {
     "name": "stdout",
     "output_type": "stream",
     "text": [
      "      27\r\n"
     ]
    }
   ],
   "source": [
    "!head -2 201801.csv  | tail -1 | sed 's/,/ /g' | wc -w"
   ]
  },
  {
   "cell_type": "code",
   "execution_count": 47,
   "metadata": {},
   "outputs": [
    {
     "name": "stdout",
     "output_type": "stream",
     "text": [
      "  621614 201801.csv\r\n"
     ]
    }
   ],
   "source": [
    "!wc -l *.csv"
   ]
  },
  {
   "cell_type": "code",
   "execution_count": 48,
   "metadata": {},
   "outputs": [],
   "source": [
    "import pandas as pd"
   ]
  },
  {
   "cell_type": "code",
   "execution_count": 49,
   "metadata": {},
   "outputs": [],
   "source": [
    "fn = '201801.csv'\n",
    "d = pd.read_csv(fn)"
   ]
  },
  {
   "cell_type": "code",
   "execution_count": 50,
   "metadata": {},
   "outputs": [
    {
     "data": {
      "text/html": [
       "<div>\n",
       "<style scoped>\n",
       "    .dataframe tbody tr th:only-of-type {\n",
       "        vertical-align: middle;\n",
       "    }\n",
       "\n",
       "    .dataframe tbody tr th {\n",
       "        vertical-align: top;\n",
       "    }\n",
       "\n",
       "    .dataframe thead th {\n",
       "        text-align: right;\n",
       "    }\n",
       "</style>\n",
       "<table border=\"1\" class=\"dataframe\">\n",
       "  <thead>\n",
       "    <tr style=\"text-align: right;\">\n",
       "      <th></th>\n",
       "      <th>FL_DATE</th>\n",
       "      <th>UNIQUE_CARRIER</th>\n",
       "      <th>AIRLINE_ID</th>\n",
       "      <th>CARRIER</th>\n",
       "      <th>FL_NUM</th>\n",
       "      <th>ORIGIN_AIRPORT_ID</th>\n",
       "      <th>ORIGIN_AIRPORT_SEQ_ID</th>\n",
       "      <th>ORIGIN_CITY_MARKET_ID</th>\n",
       "      <th>ORIGIN</th>\n",
       "      <th>DEST_AIRPORT_ID</th>\n",
       "      <th>...</th>\n",
       "      <th>WHEELS_ON</th>\n",
       "      <th>TAXI_IN</th>\n",
       "      <th>CRS_ARR_TIME</th>\n",
       "      <th>ARR_TIME</th>\n",
       "      <th>ARR_DELAY</th>\n",
       "      <th>CANCELLED</th>\n",
       "      <th>CANCELLATION_CODE</th>\n",
       "      <th>DIVERTED</th>\n",
       "      <th>DISTANCE</th>\n",
       "      <th>Unnamed: 27</th>\n",
       "    </tr>\n",
       "  </thead>\n",
       "  <tbody>\n",
       "    <tr>\n",
       "      <th>0</th>\n",
       "      <td>2018-01-01</td>\n",
       "      <td>UA</td>\n",
       "      <td>19977</td>\n",
       "      <td>UA</td>\n",
       "      <td>2429</td>\n",
       "      <td>11618</td>\n",
       "      <td>1161802</td>\n",
       "      <td>31703</td>\n",
       "      <td>EWR</td>\n",
       "      <td>11292</td>\n",
       "      <td>...</td>\n",
       "      <td>1712.0</td>\n",
       "      <td>10.0</td>\n",
       "      <td>1745</td>\n",
       "      <td>1722.0</td>\n",
       "      <td>-23.0</td>\n",
       "      <td>0.0</td>\n",
       "      <td>NaN</td>\n",
       "      <td>0.0</td>\n",
       "      <td>1605.0</td>\n",
       "      <td>NaN</td>\n",
       "    </tr>\n",
       "    <tr>\n",
       "      <th>1</th>\n",
       "      <td>2018-01-01</td>\n",
       "      <td>UA</td>\n",
       "      <td>19977</td>\n",
       "      <td>UA</td>\n",
       "      <td>2427</td>\n",
       "      <td>12889</td>\n",
       "      <td>1288903</td>\n",
       "      <td>32211</td>\n",
       "      <td>LAS</td>\n",
       "      <td>14771</td>\n",
       "      <td>...</td>\n",
       "      <td>1223.0</td>\n",
       "      <td>7.0</td>\n",
       "      <td>1254</td>\n",
       "      <td>1230.0</td>\n",
       "      <td>-24.0</td>\n",
       "      <td>0.0</td>\n",
       "      <td>NaN</td>\n",
       "      <td>0.0</td>\n",
       "      <td>414.0</td>\n",
       "      <td>NaN</td>\n",
       "    </tr>\n",
       "    <tr>\n",
       "      <th>2</th>\n",
       "      <td>2018-01-01</td>\n",
       "      <td>UA</td>\n",
       "      <td>19977</td>\n",
       "      <td>UA</td>\n",
       "      <td>2426</td>\n",
       "      <td>14908</td>\n",
       "      <td>1490803</td>\n",
       "      <td>32575</td>\n",
       "      <td>SNA</td>\n",
       "      <td>11292</td>\n",
       "      <td>...</td>\n",
       "      <td>1631.0</td>\n",
       "      <td>5.0</td>\n",
       "      <td>1649</td>\n",
       "      <td>1636.0</td>\n",
       "      <td>-13.0</td>\n",
       "      <td>0.0</td>\n",
       "      <td>NaN</td>\n",
       "      <td>0.0</td>\n",
       "      <td>846.0</td>\n",
       "      <td>NaN</td>\n",
       "    </tr>\n",
       "    <tr>\n",
       "      <th>3</th>\n",
       "      <td>2018-01-01</td>\n",
       "      <td>UA</td>\n",
       "      <td>19977</td>\n",
       "      <td>UA</td>\n",
       "      <td>2425</td>\n",
       "      <td>14635</td>\n",
       "      <td>1463502</td>\n",
       "      <td>31714</td>\n",
       "      <td>RSW</td>\n",
       "      <td>13930</td>\n",
       "      <td>...</td>\n",
       "      <td>1748.0</td>\n",
       "      <td>6.0</td>\n",
       "      <td>1756</td>\n",
       "      <td>1754.0</td>\n",
       "      <td>-2.0</td>\n",
       "      <td>0.0</td>\n",
       "      <td>NaN</td>\n",
       "      <td>0.0</td>\n",
       "      <td>1120.0</td>\n",
       "      <td>NaN</td>\n",
       "    </tr>\n",
       "    <tr>\n",
       "      <th>4</th>\n",
       "      <td>2018-01-01</td>\n",
       "      <td>UA</td>\n",
       "      <td>19977</td>\n",
       "      <td>UA</td>\n",
       "      <td>2424</td>\n",
       "      <td>13930</td>\n",
       "      <td>1393006</td>\n",
       "      <td>30977</td>\n",
       "      <td>ORD</td>\n",
       "      <td>10257</td>\n",
       "      <td>...</td>\n",
       "      <td>926.0</td>\n",
       "      <td>10.0</td>\n",
       "      <td>922</td>\n",
       "      <td>936.0</td>\n",
       "      <td>14.0</td>\n",
       "      <td>0.0</td>\n",
       "      <td>NaN</td>\n",
       "      <td>0.0</td>\n",
       "      <td>723.0</td>\n",
       "      <td>NaN</td>\n",
       "    </tr>\n",
       "  </tbody>\n",
       "</table>\n",
       "<p>5 rows × 28 columns</p>\n",
       "</div>"
      ],
      "text/plain": [
       "      FL_DATE UNIQUE_CARRIER  AIRLINE_ID CARRIER  FL_NUM  ORIGIN_AIRPORT_ID  \\\n",
       "0  2018-01-01             UA       19977      UA    2429              11618   \n",
       "1  2018-01-01             UA       19977      UA    2427              12889   \n",
       "2  2018-01-01             UA       19977      UA    2426              14908   \n",
       "3  2018-01-01             UA       19977      UA    2425              14635   \n",
       "4  2018-01-01             UA       19977      UA    2424              13930   \n",
       "\n",
       "   ORIGIN_AIRPORT_SEQ_ID  ORIGIN_CITY_MARKET_ID ORIGIN  DEST_AIRPORT_ID  \\\n",
       "0                1161802                  31703    EWR            11292   \n",
       "1                1288903                  32211    LAS            14771   \n",
       "2                1490803                  32575    SNA            11292   \n",
       "3                1463502                  31714    RSW            13930   \n",
       "4                1393006                  30977    ORD            10257   \n",
       "\n",
       "      ...       WHEELS_ON  TAXI_IN CRS_ARR_TIME  ARR_TIME  ARR_DELAY  \\\n",
       "0     ...          1712.0     10.0         1745    1722.0      -23.0   \n",
       "1     ...          1223.0      7.0         1254    1230.0      -24.0   \n",
       "2     ...          1631.0      5.0         1649    1636.0      -13.0   \n",
       "3     ...          1748.0      6.0         1756    1754.0       -2.0   \n",
       "4     ...           926.0     10.0          922     936.0       14.0   \n",
       "\n",
       "   CANCELLED  CANCELLATION_CODE  DIVERTED  DISTANCE  Unnamed: 27  \n",
       "0        0.0                NaN       0.0    1605.0          NaN  \n",
       "1        0.0                NaN       0.0     414.0          NaN  \n",
       "2        0.0                NaN       0.0     846.0          NaN  \n",
       "3        0.0                NaN       0.0    1120.0          NaN  \n",
       "4        0.0                NaN       0.0     723.0          NaN  \n",
       "\n",
       "[5 rows x 28 columns]"
      ]
     },
     "execution_count": 50,
     "metadata": {},
     "output_type": "execute_result"
    }
   ],
   "source": [
    "d.head()"
   ]
  },
  {
   "cell_type": "code",
   "execution_count": 51,
   "metadata": {},
   "outputs": [
    {
     "data": {
      "text/html": [
       "<div>\n",
       "<style scoped>\n",
       "    .dataframe tbody tr th:only-of-type {\n",
       "        vertical-align: middle;\n",
       "    }\n",
       "\n",
       "    .dataframe tbody tr th {\n",
       "        vertical-align: top;\n",
       "    }\n",
       "\n",
       "    .dataframe thead th {\n",
       "        text-align: right;\n",
       "    }\n",
       "</style>\n",
       "<table border=\"1\" class=\"dataframe\">\n",
       "  <thead>\n",
       "    <tr style=\"text-align: right;\">\n",
       "      <th></th>\n",
       "      <th>AIRLINE_ID</th>\n",
       "      <th>FL_NUM</th>\n",
       "      <th>ORIGIN_AIRPORT_ID</th>\n",
       "      <th>ORIGIN_AIRPORT_SEQ_ID</th>\n",
       "      <th>ORIGIN_CITY_MARKET_ID</th>\n",
       "      <th>DEST_AIRPORT_ID</th>\n",
       "      <th>DEST_AIRPORT_SEQ_ID</th>\n",
       "      <th>DEST_CITY_MARKET_ID</th>\n",
       "      <th>CRS_DEP_TIME</th>\n",
       "      <th>DEP_TIME</th>\n",
       "      <th>...</th>\n",
       "      <th>WHEELS_OFF</th>\n",
       "      <th>WHEELS_ON</th>\n",
       "      <th>TAXI_IN</th>\n",
       "      <th>CRS_ARR_TIME</th>\n",
       "      <th>ARR_TIME</th>\n",
       "      <th>ARR_DELAY</th>\n",
       "      <th>CANCELLED</th>\n",
       "      <th>DIVERTED</th>\n",
       "      <th>DISTANCE</th>\n",
       "      <th>Unnamed: 27</th>\n",
       "    </tr>\n",
       "  </thead>\n",
       "  <tbody>\n",
       "    <tr>\n",
       "      <th>count</th>\n",
       "      <td>621613.000000</td>\n",
       "      <td>621613.000000</td>\n",
       "      <td>621613.000000</td>\n",
       "      <td>6.216130e+05</td>\n",
       "      <td>621613.000000</td>\n",
       "      <td>621613.000000</td>\n",
       "      <td>6.216130e+05</td>\n",
       "      <td>621613.000000</td>\n",
       "      <td>621613.000000</td>\n",
       "      <td>602890.000000</td>\n",
       "      <td>...</td>\n",
       "      <td>601762.000000</td>\n",
       "      <td>601228.000000</td>\n",
       "      <td>601219.000000</td>\n",
       "      <td>621613.000000</td>\n",
       "      <td>602080.000000</td>\n",
       "      <td>600857.000000</td>\n",
       "      <td>621613.000000</td>\n",
       "      <td>621613.000000</td>\n",
       "      <td>621613.000000</td>\n",
       "      <td>0.0</td>\n",
       "    </tr>\n",
       "    <tr>\n",
       "      <th>mean</th>\n",
       "      <td>20023.584985</td>\n",
       "      <td>2725.570397</td>\n",
       "      <td>12683.124867</td>\n",
       "      <td>1.268316e+06</td>\n",
       "      <td>31769.210683</td>\n",
       "      <td>12682.911176</td>\n",
       "      <td>1.268295e+06</td>\n",
       "      <td>31769.205091</td>\n",
       "      <td>1326.569938</td>\n",
       "      <td>1333.335882</td>\n",
       "      <td>...</td>\n",
       "      <td>1359.808280</td>\n",
       "      <td>1476.551990</td>\n",
       "      <td>7.490016</td>\n",
       "      <td>1493.005754</td>\n",
       "      <td>1482.041353</td>\n",
       "      <td>3.173973</td>\n",
       "      <td>0.030772</td>\n",
       "      <td>0.002263</td>\n",
       "      <td>761.128849</td>\n",
       "      <td>NaN</td>\n",
       "    </tr>\n",
       "    <tr>\n",
       "      <th>std</th>\n",
       "      <td>410.893628</td>\n",
       "      <td>1913.261489</td>\n",
       "      <td>1517.027372</td>\n",
       "      <td>1.517025e+05</td>\n",
       "      <td>1306.731354</td>\n",
       "      <td>1516.957095</td>\n",
       "      <td>1.516955e+05</td>\n",
       "      <td>1306.656269</td>\n",
       "      <td>483.627437</td>\n",
       "      <td>493.226616</td>\n",
       "      <td>...</td>\n",
       "      <td>493.039381</td>\n",
       "      <td>514.968248</td>\n",
       "      <td>5.906399</td>\n",
       "      <td>507.466520</td>\n",
       "      <td>518.583014</td>\n",
       "      <td>49.643814</td>\n",
       "      <td>0.172698</td>\n",
       "      <td>0.047522</td>\n",
       "      <td>582.644560</td>\n",
       "      <td>NaN</td>\n",
       "    </tr>\n",
       "    <tr>\n",
       "      <th>min</th>\n",
       "      <td>19393.000000</td>\n",
       "      <td>1.000000</td>\n",
       "      <td>10135.000000</td>\n",
       "      <td>1.013505e+06</td>\n",
       "      <td>30070.000000</td>\n",
       "      <td>10135.000000</td>\n",
       "      <td>1.013505e+06</td>\n",
       "      <td>30070.000000</td>\n",
       "      <td>1.000000</td>\n",
       "      <td>1.000000</td>\n",
       "      <td>...</td>\n",
       "      <td>1.000000</td>\n",
       "      <td>1.000000</td>\n",
       "      <td>0.000000</td>\n",
       "      <td>1.000000</td>\n",
       "      <td>1.000000</td>\n",
       "      <td>-1290.000000</td>\n",
       "      <td>0.000000</td>\n",
       "      <td>0.000000</td>\n",
       "      <td>16.000000</td>\n",
       "      <td>NaN</td>\n",
       "    </tr>\n",
       "    <tr>\n",
       "      <th>25%</th>\n",
       "      <td>19790.000000</td>\n",
       "      <td>1044.000000</td>\n",
       "      <td>11292.000000</td>\n",
       "      <td>1.129202e+06</td>\n",
       "      <td>30721.000000</td>\n",
       "      <td>11292.000000</td>\n",
       "      <td>1.129202e+06</td>\n",
       "      <td>30721.000000</td>\n",
       "      <td>916.000000</td>\n",
       "      <td>924.000000</td>\n",
       "      <td>...</td>\n",
       "      <td>941.000000</td>\n",
       "      <td>1059.000000</td>\n",
       "      <td>4.000000</td>\n",
       "      <td>1109.000000</td>\n",
       "      <td>1103.000000</td>\n",
       "      <td>-17.000000</td>\n",
       "      <td>0.000000</td>\n",
       "      <td>0.000000</td>\n",
       "      <td>337.000000</td>\n",
       "      <td>NaN</td>\n",
       "    </tr>\n",
       "    <tr>\n",
       "      <th>50%</th>\n",
       "      <td>19977.000000</td>\n",
       "      <td>2239.000000</td>\n",
       "      <td>12889.000000</td>\n",
       "      <td>1.288903e+06</td>\n",
       "      <td>31453.000000</td>\n",
       "      <td>12889.000000</td>\n",
       "      <td>1.288903e+06</td>\n",
       "      <td>31453.000000</td>\n",
       "      <td>1320.000000</td>\n",
       "      <td>1329.000000</td>\n",
       "      <td>...</td>\n",
       "      <td>1343.000000</td>\n",
       "      <td>1511.000000</td>\n",
       "      <td>6.000000</td>\n",
       "      <td>1520.000000</td>\n",
       "      <td>1515.000000</td>\n",
       "      <td>-8.000000</td>\n",
       "      <td>0.000000</td>\n",
       "      <td>0.000000</td>\n",
       "      <td>599.000000</td>\n",
       "      <td>NaN</td>\n",
       "    </tr>\n",
       "    <tr>\n",
       "      <th>75%</th>\n",
       "      <td>20378.000000</td>\n",
       "      <td>4444.000000</td>\n",
       "      <td>14057.000000</td>\n",
       "      <td>1.405702e+06</td>\n",
       "      <td>32575.000000</td>\n",
       "      <td>14057.000000</td>\n",
       "      <td>1.405702e+06</td>\n",
       "      <td>32575.000000</td>\n",
       "      <td>1730.000000</td>\n",
       "      <td>1737.000000</td>\n",
       "      <td>...</td>\n",
       "      <td>1753.000000</td>\n",
       "      <td>1909.000000</td>\n",
       "      <td>9.000000</td>\n",
       "      <td>1915.000000</td>\n",
       "      <td>1914.000000</td>\n",
       "      <td>6.000000</td>\n",
       "      <td>0.000000</td>\n",
       "      <td>0.000000</td>\n",
       "      <td>1005.000000</td>\n",
       "      <td>NaN</td>\n",
       "    </tr>\n",
       "    <tr>\n",
       "      <th>max</th>\n",
       "      <td>21171.000000</td>\n",
       "      <td>9375.000000</td>\n",
       "      <td>16218.000000</td>\n",
       "      <td>1.621801e+06</td>\n",
       "      <td>36133.000000</td>\n",
       "      <td>16218.000000</td>\n",
       "      <td>1.621801e+06</td>\n",
       "      <td>36133.000000</td>\n",
       "      <td>2359.000000</td>\n",
       "      <td>2400.000000</td>\n",
       "      <td>...</td>\n",
       "      <td>2400.000000</td>\n",
       "      <td>2400.000000</td>\n",
       "      <td>258.000000</td>\n",
       "      <td>2359.000000</td>\n",
       "      <td>2400.000000</td>\n",
       "      <td>2023.000000</td>\n",
       "      <td>1.000000</td>\n",
       "      <td>1.000000</td>\n",
       "      <td>4983.000000</td>\n",
       "      <td>NaN</td>\n",
       "    </tr>\n",
       "  </tbody>\n",
       "</table>\n",
       "<p>8 rows × 22 columns</p>\n",
       "</div>"
      ],
      "text/plain": [
       "          AIRLINE_ID         FL_NUM  ORIGIN_AIRPORT_ID  ORIGIN_AIRPORT_SEQ_ID  \\\n",
       "count  621613.000000  621613.000000      621613.000000           6.216130e+05   \n",
       "mean    20023.584985    2725.570397       12683.124867           1.268316e+06   \n",
       "std       410.893628    1913.261489        1517.027372           1.517025e+05   \n",
       "min     19393.000000       1.000000       10135.000000           1.013505e+06   \n",
       "25%     19790.000000    1044.000000       11292.000000           1.129202e+06   \n",
       "50%     19977.000000    2239.000000       12889.000000           1.288903e+06   \n",
       "75%     20378.000000    4444.000000       14057.000000           1.405702e+06   \n",
       "max     21171.000000    9375.000000       16218.000000           1.621801e+06   \n",
       "\n",
       "       ORIGIN_CITY_MARKET_ID  DEST_AIRPORT_ID  DEST_AIRPORT_SEQ_ID  \\\n",
       "count          621613.000000    621613.000000         6.216130e+05   \n",
       "mean            31769.210683     12682.911176         1.268295e+06   \n",
       "std              1306.731354      1516.957095         1.516955e+05   \n",
       "min             30070.000000     10135.000000         1.013505e+06   \n",
       "25%             30721.000000     11292.000000         1.129202e+06   \n",
       "50%             31453.000000     12889.000000         1.288903e+06   \n",
       "75%             32575.000000     14057.000000         1.405702e+06   \n",
       "max             36133.000000     16218.000000         1.621801e+06   \n",
       "\n",
       "       DEST_CITY_MARKET_ID   CRS_DEP_TIME       DEP_TIME     ...       \\\n",
       "count        621613.000000  621613.000000  602890.000000     ...        \n",
       "mean          31769.205091    1326.569938    1333.335882     ...        \n",
       "std            1306.656269     483.627437     493.226616     ...        \n",
       "min           30070.000000       1.000000       1.000000     ...        \n",
       "25%           30721.000000     916.000000     924.000000     ...        \n",
       "50%           31453.000000    1320.000000    1329.000000     ...        \n",
       "75%           32575.000000    1730.000000    1737.000000     ...        \n",
       "max           36133.000000    2359.000000    2400.000000     ...        \n",
       "\n",
       "          WHEELS_OFF      WHEELS_ON        TAXI_IN   CRS_ARR_TIME  \\\n",
       "count  601762.000000  601228.000000  601219.000000  621613.000000   \n",
       "mean     1359.808280    1476.551990       7.490016    1493.005754   \n",
       "std       493.039381     514.968248       5.906399     507.466520   \n",
       "min         1.000000       1.000000       0.000000       1.000000   \n",
       "25%       941.000000    1059.000000       4.000000    1109.000000   \n",
       "50%      1343.000000    1511.000000       6.000000    1520.000000   \n",
       "75%      1753.000000    1909.000000       9.000000    1915.000000   \n",
       "max      2400.000000    2400.000000     258.000000    2359.000000   \n",
       "\n",
       "            ARR_TIME      ARR_DELAY      CANCELLED       DIVERTED  \\\n",
       "count  602080.000000  600857.000000  621613.000000  621613.000000   \n",
       "mean     1482.041353       3.173973       0.030772       0.002263   \n",
       "std       518.583014      49.643814       0.172698       0.047522   \n",
       "min         1.000000   -1290.000000       0.000000       0.000000   \n",
       "25%      1103.000000     -17.000000       0.000000       0.000000   \n",
       "50%      1515.000000      -8.000000       0.000000       0.000000   \n",
       "75%      1914.000000       6.000000       0.000000       0.000000   \n",
       "max      2400.000000    2023.000000       1.000000       1.000000   \n",
       "\n",
       "            DISTANCE  Unnamed: 27  \n",
       "count  621613.000000          0.0  \n",
       "mean      761.128849          NaN  \n",
       "std       582.644560          NaN  \n",
       "min        16.000000          NaN  \n",
       "25%       337.000000          NaN  \n",
       "50%       599.000000          NaN  \n",
       "75%      1005.000000          NaN  \n",
       "max      4983.000000          NaN  \n",
       "\n",
       "[8 rows x 22 columns]"
      ]
     },
     "execution_count": 51,
     "metadata": {},
     "output_type": "execute_result"
    }
   ],
   "source": [
    "d.describe()"
   ]
  },
  {
   "cell_type": "markdown",
   "metadata": {},
   "source": [
    "--------------------------------"
   ]
  },
  {
   "cell_type": "markdown",
   "metadata": {},
   "source": [
    "# 실습 1 - Google Cloud Shell 웹 브라우저 콘솔에서 소스 열기"
   ]
  },
  {
   "cell_type": "markdown",
   "metadata": {},
   "source": [
    "1. 지난 시간에 GCP 프로젝트를 만들고, 책의 실습 코드가 다운로드되어있다는 가정하에 Google Cloud Shell을 연다\n",
    "    *  https://console.cloud.google.com/\n",
    "    \n",
    "2. Google Cloud Shell 웹 브라우저 콘솔에서 준비단계에서 했던 것들을 직접 해본다.\n",
    "    * 이때 소스 코드들이 있는 data-science-on-gcp 안에\n",
    "    * data라는 디렉토리를 만들고\n",
    "    * data 디렉토리로 이동해서\n",
    "    * 스크립트들을 실행한다 \n",
    "    \n",
    "    예)\n",
    "```shell\n",
    "bash ../02_ingest/download.sh\n",
    "```\n",
    "    \n",
    "    "
   ]
  },
  {
   "cell_type": "markdown",
   "metadata": {},
   "source": [
    "----------------------------"
   ]
  },
  {
   "cell_type": "markdown",
   "metadata": {},
   "source": [
    "# Airline On-Time Perfomance Data\n",
    "* Knowability\n",
    "* Training–Serving Skew\n",
    "* Download Procedure\n",
    "* Dataset Attributes"
   ]
  },
  {
   "cell_type": "markdown",
   "metadata": {},
   "source": [
    "<img src=\"figures/cap01.png\" width=600 />"
   ]
  },
  {
   "cell_type": "markdown",
   "metadata": {},
   "source": [
    "## Knowability"
   ]
  },
  {
   "cell_type": "markdown",
   "metadata": {},
   "source": [
    "## Training–Serving Skew"
   ]
  },
  {
   "cell_type": "markdown",
   "metadata": {},
   "source": [
    "## Download Procedure"
   ]
  },
  {
   "cell_type": "markdown",
   "metadata": {},
   "source": [
    "<img src=\"figures/cap02.png\" width=600 />"
   ]
  },
  {
   "cell_type": "markdown",
   "metadata": {},
   "source": [
    "## Dataset Attributes"
   ]
  },
  {
   "cell_type": "markdown",
   "metadata": {},
   "source": [
    "----------------------------"
   ]
  },
  {
   "cell_type": "markdown",
   "metadata": {},
   "source": [
    "# Why Not Store the Data in Situ?\n",
    "* Scaling Up\n",
    "* Scaling Out\n",
    "* Data in Situ with Colossus and Jupiter"
   ]
  },
  {
   "cell_type": "markdown",
   "metadata": {},
   "source": [
    "<img src=\"figures/cap03.png\" width=600 />"
   ]
  },
  {
   "cell_type": "markdown",
   "metadata": {},
   "source": [
    "## Scaling Up"
   ]
  },
  {
   "cell_type": "markdown",
   "metadata": {},
   "source": [
    "<img src=\"figures/cap04.png\" width=600 />"
   ]
  },
  {
   "cell_type": "markdown",
   "metadata": {},
   "source": [
    "## Scaling Out"
   ]
  },
  {
   "cell_type": "markdown",
   "metadata": {},
   "source": [
    "<img src=\"figures/cap05.png\" width=600 />"
   ]
  },
  {
   "cell_type": "markdown",
   "metadata": {},
   "source": [
    "## Data in Situ with Colossus and Jupiter"
   ]
  },
  {
   "cell_type": "markdown",
   "metadata": {},
   "source": [
    "<img src=\"figures/cap06.png\" width=600 />"
   ]
  },
  {
   "cell_type": "markdown",
   "metadata": {},
   "source": [
    "-----------------------"
   ]
  },
  {
   "cell_type": "markdown",
   "metadata": {},
   "source": [
    "# Ingesting Data\n",
    "* Reverse Engineering a Web Form\n",
    "* Dataset Download\n",
    "* Exploration and Cleanup\n",
    "* Uploading Data to Google Cloud Storage   "
   ]
  },
  {
   "cell_type": "markdown",
   "metadata": {},
   "source": [
    "<img src=\"figures/cap07.png\" width=600 />"
   ]
  },
  {
   "cell_type": "markdown",
   "metadata": {},
   "source": [
    "## Reverse Engineering a Web Form"
   ]
  },
  {
   "cell_type": "markdown",
   "metadata": {},
   "source": [
    "<img src=\"figures/cap08.png\" width=600 />"
   ]
  },
  {
   "cell_type": "markdown",
   "metadata": {},
   "source": [
    "<img src=\"figures/cap09.png\" width=600 />"
   ]
  },
  {
   "cell_type": "markdown",
   "metadata": {},
   "source": [
    "<img src=\"figures/cap10.png\" width=600 />"
   ]
  },
  {
   "cell_type": "markdown",
   "metadata": {},
   "source": [
    "<img src=\"figures/cap11.png\" width=600 />"
   ]
  },
  {
   "cell_type": "markdown",
   "metadata": {},
   "source": [
    "## Dataset Download"
   ]
  },
  {
   "cell_type": "markdown",
   "metadata": {},
   "source": [
    "<img src=\"figures/cap12.png\" width=600 />"
   ]
  },
  {
   "cell_type": "markdown",
   "metadata": {},
   "source": [
    "<img src=\"figures/cap13.png\" width=600 />"
   ]
  },
  {
   "cell_type": "markdown",
   "metadata": {},
   "source": [
    "## Exploration and Cleanup"
   ]
  },
  {
   "cell_type": "markdown",
   "metadata": {},
   "source": [
    "## Uploading Data to Google Cloud Storage"
   ]
  },
  {
   "cell_type": "markdown",
   "metadata": {},
   "source": [
    "#### 참고자료\n",
    "구글 클라우드 스토리지\n",
    "* https://cloud.google.com/storage/\n",
    "* http://jybaek.tistory.com/642\n",
    "\n",
    "#### 생성\n",
    "1. 구글 클라우드 스토리지 콘솔로 이동\n",
    "    * https://console.cloud.google.com/storage/\n",
    "\n",
    "\n",
    "2. 최초 버킷 생성\n",
    "<img src=\"figures/storage_bucket.png\">\n",
    "\n",
    "3. 다음 형태로 콘솔에서 gsutils를 이용해 명령어들을 사용할 수 있다.\n",
    "    * 조회 \n",
    "```shell\n",
    "gsutil ls -a gs://[BUCKET_NAME]\n",
    "```\n",
    "    * 업로드\n",
    "```shell    \n",
    "gsutil -m cp *.csv gs://cloud-training-demos-ml/flights/raw/’\n",
    "```"
   ]
  },
  {
   "cell_type": "code",
   "execution_count": null,
   "metadata": {},
   "outputs": [],
   "source": [
    "# 조회"
   ]
  },
  {
   "cell_type": "code",
   "execution_count": 56,
   "metadata": {},
   "outputs": [],
   "source": [
    "!gsutil ls gs://[BUCKET_NAME]"
   ]
  },
  {
   "cell_type": "code",
   "execution_count": null,
   "metadata": {},
   "outputs": [],
   "source": [
    "# 웹 브라우저로 파일 하나 올려보기 (그리고 확인)"
   ]
  },
  {
   "cell_type": "code",
   "execution_count": null,
   "metadata": {},
   "outputs": [],
   "source": [
    "!gsutil ls gs://[BUCKET_NAME]"
   ]
  },
  {
   "cell_type": "code",
   "execution_count": null,
   "metadata": {},
   "outputs": [],
   "source": [
    "# 데이터 콘솔로 올려보기"
   ]
  },
  {
   "cell_type": "code",
   "execution_count": null,
   "metadata": {},
   "outputs": [],
   "source": []
  },
  {
   "cell_type": "markdown",
   "metadata": {},
   "source": [
    "-----------------------"
   ]
  },
  {
   "cell_type": "markdown",
   "metadata": {},
   "source": [
    "# Scheduling Monthly Downloads\n",
    "* Ingesting in Python\n",
    "* Flask Web App\n",
    "* Running on App Engine\n",
    "* Securing the URL\n",
    "* Scheduling a Cron Task"
   ]
  },
  {
   "cell_type": "markdown",
   "metadata": {},
   "source": [
    "<img src=\"figures/cap14.png\" width=600 />"
   ]
  },
  {
   "cell_type": "markdown",
   "metadata": {},
   "source": [
    "## Ingesting in Python"
   ]
  },
  {
   "cell_type": "markdown",
   "metadata": {},
   "source": [
    "## Flask Web App"
   ]
  },
  {
   "cell_type": "markdown",
   "metadata": {},
   "source": [
    "## Running on App Engine"
   ]
  },
  {
   "cell_type": "markdown",
   "metadata": {},
   "source": [
    "## Securing the URL"
   ]
  },
  {
   "cell_type": "markdown",
   "metadata": {},
   "source": [
    "## Scheduling a Cron Task"
   ]
  },
  {
   "cell_type": "markdown",
   "metadata": {},
   "source": [
    "-----------------------"
   ]
  },
  {
   "cell_type": "markdown",
   "metadata": {},
   "source": [
    "# Summary"
   ]
  },
  {
   "cell_type": "markdown",
   "metadata": {},
   "source": [
    "-----------------------"
   ]
  },
  {
   "cell_type": "markdown",
   "metadata": {},
   "source": [
    "# Code Break"
   ]
  },
  {
   "cell_type": "markdown",
   "metadata": {},
   "source": [
    "# 참고자료\n",
    "* [1] Data Science on the Google Cloud Platform: Implementing End-to-End Real-Time Data Pipelines: From Ingest to Machine Learning - https://www.amazon.com/Data-Science-Google-Cloud-Platform/dp/1491974567\n",
    "* [2] Book github - https://github.com/GoogleCloudPlatform/data-science-on-gcp"
   ]
  }
 ],
 "metadata": {
  "kernelspec": {
   "display_name": "Python 3",
   "language": "python",
   "name": "python3"
  },
  "language_info": {
   "codemirror_mode": {
    "name": "ipython",
    "version": 3
   },
   "file_extension": ".py",
   "mimetype": "text/x-python",
   "name": "python",
   "nbconvert_exporter": "python",
   "pygments_lexer": "ipython3",
   "version": "3.6.5"
  }
 },
 "nbformat": 4,
 "nbformat_minor": 2
}
